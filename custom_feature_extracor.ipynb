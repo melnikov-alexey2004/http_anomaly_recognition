{
 "cells": [
  {
   "cell_type": "code",
   "execution_count": null,
   "metadata": {},
   "outputs": [],
   "source": [
    "import re\n",
    "import string\n",
    "import urllib.parse as urlparse\n",
    "\n",
    "\n",
    "HTTP_METHODS = {\n",
    "    \"GET\": \"GET(.|\\n)+?(?=GET|POST|\\Z)\",\n",
    "    \"POST\": \"POST(.|\\n)+?(?=GET|POST|\\Z)\"\n",
    "}\n",
    "\n",
    "URL_REGEX = \"http.+?(?= )\"\n",
    "BODY_REGEX = \"(?<=\\n\\n).+(?=\\n\\n)\"\n",
    "\n",
    "\n",
    "\n",
    "def parse(path, request_reg: string):\n",
    "    with open(path) as file:\n",
    "        data = file.read()\n",
    "\n",
    "        requests = []\n",
    "        [requests.append(request.group(0)) for request in re.finditer(request_reg, data, re.MULTILINE)]\n",
    "\n",
    "        return requests\n",
    "\n",
    "def parseParamsFromUrl(request):\n",
    "    url = parseUrl(request)\n",
    "    return urlparse.parse_qs(urlparse.urlparse(url).query)\n",
    "\n",
    "def parseUrl(request):\n",
    "    return re.search(URL_REGEX, request).group(0)\n",
    "\n",
    "def parseParamsFromBody(request):\n",
    "    params = {}\n",
    "    body = re.search(BODY_REGEX, request)\n",
    "\n",
    "    if body is not None:\n",
    "        body = body.group(0)\n",
    "\n",
    "        params = urlparse.parse_qs(body)\n",
    "\n",
    "    return params"
   ]
  },
  {
   "cell_type": "code",
   "execution_count": 4,
   "metadata": {},
   "outputs": [],
   "source": [
    "from pathlib import Path"
   ]
  },
  {
   "cell_type": "code",
   "execution_count": 7,
   "metadata": {},
   "outputs": [],
   "source": [
    "class FileNotFound(Exception):\n",
    "    def __init__(self, message: str = \"File not found\", *args: object) -> None:\n",
    "        if len(args) == 0:\n",
    "            raise TypeError(\"FileNotFound exception requires exactly one argument.\")\n",
    "        elif len(args) > 1:\n",
    "            raise TypeError(\"FileNotFound exception requires exactly one argument, but multiple were given.\")\n",
    "        elif not (isinstance(args[0], str) or isinstance(args[0], Path)):\n",
    "            raise TypeError(\"FileNotFound exception requires a string or Path argument representing the file path.\")\n",
    "        self.filepath = args[0]\n",
    "        super().__init__(message)\n",
    "     \n",
    "    def __str__(self) -> str:\n",
    "        return super().__str__() + f\"\\nFile '{self.filepath}' not found - please check the filepath and try again.\""
   ]
  },
  {
   "cell_type": "code",
   "execution_count": 8,
   "metadata": {},
   "outputs": [
    {
     "name": "stdout",
     "output_type": "stream",
     "text": [
      "Custom message that involves losses files by the transmitted path\n",
      "File 'path\\to\\none__existent\\file.txt' not found - please check the filepath and try again.\n"
     ]
    }
   ],
   "source": [
    "# Example usage oof my class\n",
    "try:\n",
    "    raise FileNotFound(\"Custom message that involves losses files by the transmitted path\", Path(\"path/to/none__existent/file.txt\"))\n",
    "except FileNotFound as e:\n",
    "    print(e)"
   ]
  },
  {
   "cell_type": "code",
   "execution_count": 9,
   "metadata": {},
   "outputs": [
    {
     "name": "stdout",
     "output_type": "stream",
     "text": [
      "Custom message that involves losses files by the transmitted path\n",
      "File 'path/to/none__existent/file.txt' not found - please check the filepath and try again.\n"
     ]
    }
   ],
   "source": [
    "try:\n",
    "    raise FileNotFound(\"Custom message that involves losses files by the transmitted path\", \"path/to/none__existent/file.txt\")\n",
    "except FileNotFound as e:\n",
    "    print(e)"
   ]
  },
  {
   "cell_type": "code",
   "execution_count": 41,
   "metadata": {},
   "outputs": [
    {
     "ename": "TypeError",
     "evalue": "__init__() missing 1 required positional argument: 'message'",
     "output_type": "error",
     "traceback": [
      "\u001b[1;31m---------------------------------------------------------------------------\u001b[0m",
      "\u001b[1;31mBaseError\u001b[0m                                 Traceback (most recent call last)",
      "\u001b[1;32m~\\AppData\\Local\\Temp\\ipykernel_26036\\2321726186.py\u001b[0m in \u001b[0;36m<module>\u001b[1;34m\u001b[0m\n\u001b[0;32m     29\u001b[0m \u001b[1;32mtry\u001b[0m\u001b[1;33m:\u001b[0m\u001b[1;33m\u001b[0m\u001b[1;33m\u001b[0m\u001b[0m\n\u001b[1;32m---> 30\u001b[1;33m     \u001b[1;32mraise\u001b[0m \u001b[0mBaseError\u001b[0m\u001b[1;33m(\u001b[0m\u001b[1;34m\"Not include in module currecnt directory -> /path/to/file\"\u001b[0m\u001b[1;33m)\u001b[0m\u001b[1;33m\u001b[0m\u001b[1;33m\u001b[0m\u001b[0m\n\u001b[0m\u001b[0;32m     31\u001b[0m \u001b[1;32mexcept\u001b[0m \u001b[0mAbstractBaseException\u001b[0m \u001b[1;32mas\u001b[0m \u001b[0me\u001b[0m\u001b[1;33m:\u001b[0m\u001b[1;33m\u001b[0m\u001b[1;33m\u001b[0m\u001b[0m\n",
      "\u001b[1;31m<class 'str'>\u001b[0m: (<class 'TypeError'>, TypeError(\"__init__() missing 1 required positional argument: 'message'\"))",
      "\nDuring handling of the above exception, another exception occurred:\n",
      "\u001b[1;31mTypeError\u001b[0m                                 Traceback (most recent call last)",
      "\u001b[1;32m~\\AppData\\Local\\Temp\\ipykernel_26036\\2321726186.py\u001b[0m in \u001b[0;36m<module>\u001b[1;34m\u001b[0m\n\u001b[0;32m     30\u001b[0m     \u001b[1;32mraise\u001b[0m \u001b[0mBaseError\u001b[0m\u001b[1;33m(\u001b[0m\u001b[1;34m\"Not include in module currecnt directory -> /path/to/file\"\u001b[0m\u001b[1;33m)\u001b[0m\u001b[1;33m\u001b[0m\u001b[1;33m\u001b[0m\u001b[0m\n\u001b[0;32m     31\u001b[0m \u001b[1;32mexcept\u001b[0m \u001b[0mAbstractBaseException\u001b[0m \u001b[1;32mas\u001b[0m \u001b[0me\u001b[0m\u001b[1;33m:\u001b[0m\u001b[1;33m\u001b[0m\u001b[1;33m\u001b[0m\u001b[0m\n\u001b[1;32m---> 32\u001b[1;33m     \u001b[0mprint\u001b[0m\u001b[1;33m(\u001b[0m\u001b[0me\u001b[0m\u001b[1;33m)\u001b[0m  \u001b[1;31m# This will call the __str__ method of FileNotFound\u001b[0m\u001b[1;33m\u001b[0m\u001b[1;33m\u001b[0m\u001b[0m\n\u001b[0m",
      "\u001b[1;32m~\\AppData\\Local\\Temp\\ipykernel_26036\\2321726186.py\u001b[0m in \u001b[0;36m__str__\u001b[1;34m(self)\u001b[0m\n\u001b[0;32m     24\u001b[0m \u001b[1;33m\u001b[0m\u001b[0m\n\u001b[0;32m     25\u001b[0m     \u001b[1;32mdef\u001b[0m \u001b[0m__str__\u001b[0m\u001b[1;33m(\u001b[0m\u001b[0mself\u001b[0m\u001b[1;33m)\u001b[0m \u001b[1;33m->\u001b[0m \u001b[0mstr\u001b[0m\u001b[1;33m:\u001b[0m\u001b[1;33m\u001b[0m\u001b[1;33m\u001b[0m\u001b[0m\n\u001b[1;32m---> 26\u001b[1;33m         \u001b[1;32mreturn\u001b[0m \u001b[1;34mf\"{self.__class__.__name__} exception: {self.message}\"\u001b[0m \u001b[1;33m+\u001b[0m \u001b[0msuper\u001b[0m\u001b[1;33m(\u001b[0m\u001b[1;33m)\u001b[0m\u001b[1;33m.\u001b[0m\u001b[0m__init__\u001b[0m\u001b[1;33m(\u001b[0m\u001b[1;33m)\u001b[0m \u001b[1;33m+\u001b[0m \u001b[1;34mf'\\nDEBUG INFO aboat MRO: {BaseError.mro()}'\u001b[0m\u001b[1;33m\u001b[0m\u001b[1;33m\u001b[0m\u001b[0m\n\u001b[0m\u001b[0;32m     27\u001b[0m \u001b[1;33m\u001b[0m\u001b[0m\n\u001b[0;32m     28\u001b[0m \u001b[1;31m# Example of using the exceptions\u001b[0m\u001b[1;33m\u001b[0m\u001b[1;33m\u001b[0m\u001b[1;33m\u001b[0m\u001b[0m\n",
      "\u001b[1;31mTypeError\u001b[0m: __init__() missing 1 required positional argument: 'message'"
     ]
    }
   ],
   "source": [
    "from abc import ABC, abstractmethod\n",
    "\n",
    "class AbstractBaseException(Exception, ABC):\n",
    "    \"\"\"\n",
    "    Abstract base class for custom exceptions.\n",
    "    \"\"\"\n",
    "\n",
    "    def __init__(self, message: str, *args: object) -> None:\n",
    "        self.message = message\n",
    "        Exception.__init__(self, message)\n",
    "        \n",
    "\n",
    "    @abstractmethod\n",
    "    def __str__(self) -> str:\n",
    "        \"\"\"\n",
    "        Subclasses must implement this method.\n",
    "        \"\"\"\n",
    "        return f\"AbstractBaseException: {self.message}\"\n",
    "\n",
    "# Example of a concrete exception subclass\n",
    "class BaseError(AbstractBaseException):\n",
    "    def __init__(self, message: str, *args: object) -> None:\n",
    "        AbstractBaseException.__init__(self, message, *args)\n",
    "\n",
    "    def __str__(self) -> str:\n",
    "        return f\"{self.__class__.__name__} exception: {self.message}\" + super().__init__() + f'\\nDEBUG INFO aboat MRO: {BaseError.mro()}'\n",
    "\n",
    "# Example of using the exceptions\n",
    "try:\n",
    "    raise BaseError(\"Not include in module currecnt directory -> /path/to/file\")\n",
    "except AbstractBaseException as e:\n",
    "    print(e)  # This will call the __str__ method of FileNotFound"
   ]
  },
  {
   "cell_type": "code",
   "execution_count": 42,
   "metadata": {},
   "outputs": [
    {
     "name": "stdout",
     "output_type": "stream",
     "text": [
      "BaseError exception: Not included in the current directory -> /path/to/file\n",
      "DEBUG INFO about MRO: [<class '__main__.BaseError'>, <class '__main__.AbstractBaseException'>, <class 'Exception'>, <class 'BaseException'>, <class 'abc.ABC'>, <class 'object'>]\n"
     ]
    }
   ],
   "source": [
    "from abc import ABC, abstractmethod\n",
    "\n",
    "class AbstractBaseException(Exception, ABC):\n",
    "    \"\"\"\n",
    "    Abstract base class for custom exceptions.\n",
    "    \"\"\"\n",
    "\n",
    "    def __init__(self, message: str, *args: object) -> None:\n",
    "        self.message = message\n",
    "        super().__init__(message)\n",
    "        \n",
    "\n",
    "    @abstractmethod\n",
    "    def __str__(self) -> str:\n",
    "        \"\"\"\n",
    "        Subclasses must implement this method.\n",
    "        \"\"\"\n",
    "        pass  # Abstract method, to be implemented by subclasses\n",
    "\n",
    "# Example of a concrete exception subclass\n",
    "class BaseError(AbstractBaseException):\n",
    "    def __init__(self, message: str, *args: object) -> None:\n",
    "        super().__init__(message, *args)\n",
    "\n",
    "    def __str__(self) -> str:\n",
    "        return f\"{self.__class__.__name__} exception: {self.message}\" + f'\\nDEBUG INFO about MRO: {BaseError.mro()}'\n",
    "\n",
    "# Example of using the exceptions\n",
    "try:\n",
    "    raise BaseError(\"Not included in the current directory -> /path/to/file\")\n",
    "except AbstractBaseException as e:\n",
    "    print(e)  # This will call the __str__ method of BaseError"
   ]
  },
  {
   "cell_type": "code",
   "execution_count": 47,
   "metadata": {},
   "outputs": [],
   "source": [
    "from dataclasses import dataclass, field\n",
    "\n",
    "@dataclass\n",
    "class RequestDatframe:\n",
    "    dataframe_id: int\n",
    "    requests: list = field(default_factory=list)"
   ]
  },
  {
   "cell_type": "code",
   "execution_count": 49,
   "metadata": {},
   "outputs": [
    {
     "data": {
      "text/plain": [
       "(True, True)"
      ]
     },
     "execution_count": 49,
     "metadata": {},
     "output_type": "execute_result"
    }
   ],
   "source": [
    "RequestDatframe(0, []) == RequestDatframe(0, []),\\\n",
    "    RequestDatframe(0, [1,2,3]) == RequestDatframe(0, [1,2,3])"
   ]
  },
  {
   "cell_type": "code",
   "execution_count": 72,
   "metadata": {},
   "outputs": [],
   "source": [
    "from typing import Dict, Any, Tuple\n",
    "@dataclass\n",
    "class RequestDatframeMod:\n",
    "    requests: list = field(default_factory=list)\n",
    "    columns: List[str] = field(default_factory=list)\n",
    "    indexes: List[int] = field(default_factory=list)\n",
    "    attrs: Dict[str, Any] = field(default_factory=dict)\n",
    "    dataframe_id: int = -1\n",
    "    ignore_errors: bool = True\n",
    "    # ignore init attributes\n",
    "    dtype: object = field(init = False)\n",
    "    shape: Tuple[int, ...] = field(init= False)\n",
    "    \n",
    "    \n",
    "    \n",
    "    # init repr eq\n",
    "    # after exec\n",
    "    # __post_init__\n",
    "    \n",
    "    def __post_init__(self):\n",
    "        self.shape = len(self.requests), len(self.columns)\n",
    "        if not self.requests:\n",
    "            if not self.ignore_errors: raise TypeError(\"self.requests cannot be empty\")\n",
    "            self.dtype = None\n",
    "        else:\n",
    "            self.dtype = type(self.requests[0])\n",
    "        # для нубов могу объяснить\n",
    "        # декоратор (_ for _ in ())\n",
    "        # у декораторов можно выбросить исключение  через метод throw\n",
    "        # когда пытаемся получить значение из генератора который пуст\n",
    "        # дальше вызов анонимной (лямбда) функции на лету (сразу)\n",
    "        # self.dtype = type(self.requests) if self.requests else (lambda: (_ for _ in ()).throw(TypeError(\"self.requests cannot be empty\")))()\n"
   ]
  },
  {
   "cell_type": "code",
   "execution_count": 73,
   "metadata": {},
   "outputs": [
    {
     "ename": "TypeError",
     "evalue": "tuple expected at most 1 arguments, got 2",
     "output_type": "error",
     "traceback": [
      "\u001b[1;31m---------------------------------------------------------------------------\u001b[0m",
      "\u001b[1;31mTypeError\u001b[0m                                 Traceback (most recent call last)",
      "\u001b[1;32m~\\AppData\\Local\\Temp\\ipykernel_26036\\3101173388.py\u001b[0m in \u001b[0;36m<module>\u001b[1;34m\u001b[0m\n\u001b[1;32m----> 1\u001b[1;33m \u001b[0mRequestDatframeMod\u001b[0m\u001b[1;33m(\u001b[0m\u001b[1;33m)\u001b[0m\u001b[1;33m.\u001b[0m\u001b[0m__annotations__\u001b[0m\u001b[1;33m,\u001b[0m\u001b[0;31m \u001b[0m\u001b[0;31m\\\u001b[0m\u001b[1;33m\u001b[0m\u001b[1;33m\u001b[0m\u001b[0m\n\u001b[0m\u001b[0;32m      2\u001b[0m \u001b[0mRequestDatframeMod\u001b[0m\u001b[1;33m(\u001b[0m\u001b[1;33m)\u001b[0m\u001b[1;33m.\u001b[0m\u001b[0m__dict__\u001b[0m\u001b[1;33m,\u001b[0m\u001b[0;31m \u001b[0m\u001b[0;31m\\\u001b[0m\u001b[1;33m\u001b[0m\u001b[1;33m\u001b[0m\u001b[0m\n\u001b[0;32m      3\u001b[0m     \u001b[0mRequestDatframeMod\u001b[0m\u001b[1;33m(\u001b[0m\u001b[1;33m)\u001b[0m\u001b[1;33m\u001b[0m\u001b[1;33m\u001b[0m\u001b[0m\n",
      "\u001b[1;32m<string>\u001b[0m in \u001b[0;36m__init__\u001b[1;34m(self, requests, columns, indexes, attrs, dataframe_id, ignore_errors)\u001b[0m\n",
      "\u001b[1;32m~\\AppData\\Local\\Temp\\ipykernel_26036\\4188577086.py\u001b[0m in \u001b[0;36m__post_init__\u001b[1;34m(self)\u001b[0m\n\u001b[0;32m     19\u001b[0m \u001b[1;33m\u001b[0m\u001b[0m\n\u001b[0;32m     20\u001b[0m     \u001b[1;32mdef\u001b[0m \u001b[0m__post_init__\u001b[0m\u001b[1;33m(\u001b[0m\u001b[0mself\u001b[0m\u001b[1;33m)\u001b[0m\u001b[1;33m:\u001b[0m\u001b[1;33m\u001b[0m\u001b[1;33m\u001b[0m\u001b[0m\n\u001b[1;32m---> 21\u001b[1;33m         \u001b[0mself\u001b[0m\u001b[1;33m.\u001b[0m\u001b[0mshape\u001b[0m \u001b[1;33m=\u001b[0m \u001b[0mtuple\u001b[0m\u001b[1;33m(\u001b[0m\u001b[0mlen\u001b[0m\u001b[1;33m(\u001b[0m\u001b[0mself\u001b[0m\u001b[1;33m.\u001b[0m\u001b[0mrequests\u001b[0m\u001b[1;33m)\u001b[0m\u001b[1;33m,\u001b[0m \u001b[0mlen\u001b[0m\u001b[1;33m(\u001b[0m\u001b[0mself\u001b[0m\u001b[1;33m.\u001b[0m\u001b[0mcolumns\u001b[0m\u001b[1;33m)\u001b[0m\u001b[1;33m)\u001b[0m\u001b[1;33m\u001b[0m\u001b[1;33m\u001b[0m\u001b[0m\n\u001b[0m\u001b[0;32m     22\u001b[0m         \u001b[1;32mif\u001b[0m \u001b[1;32mnot\u001b[0m \u001b[0mself\u001b[0m\u001b[1;33m.\u001b[0m\u001b[0mrequests\u001b[0m\u001b[1;33m:\u001b[0m\u001b[1;33m\u001b[0m\u001b[1;33m\u001b[0m\u001b[0m\n\u001b[0;32m     23\u001b[0m             \u001b[1;32mif\u001b[0m \u001b[1;32mnot\u001b[0m \u001b[0mself\u001b[0m\u001b[1;33m.\u001b[0m\u001b[0mignore_errors\u001b[0m\u001b[1;33m:\u001b[0m \u001b[1;32mraise\u001b[0m \u001b[0mTypeError\u001b[0m\u001b[1;33m(\u001b[0m\u001b[1;34m\"self.requests cannot be empty\"\u001b[0m\u001b[1;33m)\u001b[0m\u001b[1;33m\u001b[0m\u001b[1;33m\u001b[0m\u001b[0m\n",
      "\u001b[1;31mTypeError\u001b[0m: tuple expected at most 1 arguments, got 2"
     ]
    }
   ],
   "source": [
    "RequestDatframeMod().__annotations__, \\\n",
    "RequestDatframeMod().__dict__, \\\n",
    "    RequestDatframeMod()"
   ]
  },
  {
   "cell_type": "code",
   "execution_count": null,
   "metadata": {},
   "outputs": [],
   "source": []
  },
  {
   "cell_type": "code",
   "execution_count": null,
   "metadata": {},
   "outputs": [],
   "source": []
  },
  {
   "cell_type": "code",
   "execution_count": 10,
   "metadata": {},
   "outputs": [],
   "source": [
    "from tqdm import trange, tqdm, tqdm_notebook"
   ]
  },
  {
   "cell_type": "code",
   "execution_count": 28,
   "metadata": {},
   "outputs": [],
   "source": [
    "class FileFormatIsWrong(Exception):\n",
    "    def __init__(self, *args: object) -> None:\n",
    "        if len(args) == 0:\n",
    "            raise TypeError(f\"{self.__class__.__name__} exception requires exactly one argument.\")\n",
    "        elif len(args) > 1:\n",
    "            raise TypeError(f\"{self.__class__.__name__} requires exactly one argument, but multiple were given.\")\n",
    "        elif not (isinstance(args[0], str) or isinstance(args[0], Path)):\n",
    "            raise TypeError(f\"{self.__class__.__name__} exception requires a string or Path argument representing the file path.\")\n",
    "        self.message = args[0]\n",
    "        super().__init__(self.message)\n",
    "     \n",
    "    def __str__(self) -> str:\n",
    "        return super().__str__() + f\"\\nFile Format Is Wrong. Request must need start from GET|POST|PUT\""
   ]
  },
  {
   "cell_type": "code",
   "execution_count": 29,
   "metadata": {},
   "outputs": [
    {
     "name": "stdout",
     "output_type": "stream",
     "text": [
      "Custom message that means problem with file format\n",
      "File Format Is Wrong. Request must need start from GET|POST|PUT\n"
     ]
    }
   ],
   "source": [
    "try:\n",
    "    raise FileFormatIsWrong(\"Custom message that means problem with file format\")\n",
    "except FileFormatIsWrong as e:\n",
    "    print(e)"
   ]
  },
  {
   "cell_type": "code",
   "execution_count": 15,
   "metadata": {},
   "outputs": [],
   "source": [
    "from typing import List\n",
    "ENCODING = 'windows-1252' # Spanish letters charset\n",
    "SHIFT = Path('../..')\n",
    "TRAIN_DATA_PATH = SHIFT / \"normalTrafficTraining.txt\"\n",
    "TEST_DATA_NORMAL_PATH = SHIFT / \"normalTrafficTest.txt\"\n",
    "TEST_DATA_ANOMALY_PATH = SHIFT / \"anomalousTrafficTest.txt\"\n",
    "def read_file(file_path: Path) -> str:\n",
    "    if not file_path.exists():\n",
    "        raise FileNotFound(\"read file error\", file_path)\n",
    "    \n",
    "        \n",
    "    with file_path.open('r', encoding=ENCODING) as file:\n",
    "        return file.read()\n",
    "\n",
    "def starts_with_method(line: str) -> bool:\n",
    "    return line.startswith(('GET', 'POST', 'PUT'))\n",
    "   \n",
    "def parse(path: Path, request_reg: str = SPLIT_REQUEST) -> List[str]:\n",
    "    request_readed_from_txt = read_file(path)\n",
    "    requests = re.split(request_reg, request_readed_from_txt)\n",
    "    rejected_indexes = []\n",
    "    for index, request in tqdm(enumerate(requests), total=len(requests)):\n",
    "        if not starts_with_method(request):\n",
    "            rejected_indexes.append(index)\n",
    "    ass\n",
    "    return requests"
   ]
  },
  {
   "cell_type": "code",
   "execution_count": 16,
   "metadata": {},
   "outputs": [
    {
     "name": "stdout",
     "output_type": "stream",
     "text": [
      "GET http://localhost:8080/tienda1/index.jsp HTTP/1.1\n",
      "User-Agent: Mozilla/5.0 (compatible; Konqueror/3.5; Linux) KHTML/3.5.8 (like Gecko)\n",
      "Pragma: no-cache\n",
      "Cache-control: no-cache\n",
      "Accept: text/xml,application/xml,application/xhtml+xml,text/html;q=0.9,text/plain;q=0.8,image/png,*/*;q=0.5\n",
      "Accept-Encoding: x-gzip, x-deflate, gzip, deflate\n",
      "Accept-Charset: utf-8, utf-8;q=0.5, *;q=0.5\n",
      "Accept-Language: en\n",
      "Host: localhost:8080\n",
      "Cookie: JSESSIONID=1F767F17239C9B670A39E9B10C3825F4\n",
      "Connection: close\n",
      "\n"
     ]
    }
   ],
   "source": [
    "rs = parse(TRAIN_DATA_PATH)\n",
    "print(rs[0])"
   ]
  },
  {
   "cell_type": "code",
   "execution_count": null,
   "metadata": {},
   "outputs": [],
   "source": []
  },
  {
   "cell_type": "code",
   "execution_count": null,
   "metadata": {},
   "outputs": [],
   "source": []
  },
  {
   "cell_type": "code",
   "execution_count": null,
   "metadata": {},
   "outputs": [],
   "source": [
    "FileNotFound('message: File not found, )"
   ]
  },
  {
   "cell_type": "code",
   "execution_count": null,
   "metadata": {},
   "outputs": [],
   "source": [
    "SPLIT_REQUEST =  r'\\n\\n(?=GET|POST)'\n",
    "def parse(path, request_reg: string):\n",
    "    with open(path) as file:\n",
    "        data = file.read()\n",
    "\n",
    "        requests = []\n",
    "        [requests.append(request.group(0)) for request in re.finditer(request_reg, data, re.MULTILINE)]\n",
    "\n",
    "        return requests"
   ]
  },
  {
   "cell_type": "code",
   "execution_count": 12,
   "metadata": {},
   "outputs": [
    {
     "ename": "IndentationError",
     "evalue": "expected an indented block (1020359585.py, line 43)",
     "output_type": "error",
     "traceback": [
      "\u001b[1;36m  File \u001b[1;32m\"C:\\Users\\alexey\\AppData\\Local\\Temp\\ipykernel_26036\\1020359585.py\"\u001b[1;36m, line \u001b[1;32m43\u001b[0m\n\u001b[1;33m    pass\u001b[0m\n\u001b[1;37m       ^\u001b[0m\n\u001b[1;31mIndentationError\u001b[0m\u001b[1;31m:\u001b[0m expected an indented block\n"
     ]
    }
   ],
   "source": [
    "import re, regex\n",
    "import string\n",
    "from urllib.parse import unquote, unquote_plus, parse_qs, parse_qsl\n",
    "from typing import List\n",
    "import typing_extensions\n",
    "from pathlib import Path\n",
    "\n",
    "\n",
    "ENCODING = 'windows-1252' # Spanish letters charset\n",
    "SHIFT = Path('../..')\n",
    "TRAIN_DATA_PATH = SHIFT / \"normalTrafficTraining.txt\"\n",
    "TEST_DATA_NORMAL_PATH = SHIFT / \"normalTrafficTest.txt\"\n",
    "TEST_DATA_ANOMALY_PATH = SHIFT / \"anomalousTrafficTest.txt\"\n",
    "ANOMALIES_LABEL = -1\n",
    "NORMAL_LABEL = 1\n",
    "SPLIT_REQUEST = r'\\n\\n(?=GET|POST)'\n",
    "\n",
    "\n",
    "class FileNotFound(Exception):\n",
    "    def __init__(self, message: str = \"File not found\", *args: object) -> None:\n",
    "        if len(args) == 0:\n",
    "            raise TypeError(\"FileNotFound exception requires exactly one argument.\")\n",
    "        elif len(args) > 1:\n",
    "            raise TypeError(\"FileNotFound exception requires exactly one argument, but multiple were given.\")\n",
    "        elif not isinstance(args[0], str):\n",
    "            raise TypeError(\"FileNotFound exception requires a string argument representing the file path.\")\n",
    "    \n",
    "        super().__init__(message, *args)\n",
    "    \n",
    "    def __str__(self) -> str:\n",
    "        return super().__str__() + f\"\\nFile '{self.args[0]}' not found - please check the filepath and try again.\"\n",
    "\n",
    "\n",
    "\n",
    "\n",
    "class FileFormatIsWrong(Exception):\n",
    "    pass\n",
    "\n",
    "\n",
    "class RequestsReader:\n",
    "    def __init__(self, file_path: Path) -> None:\n",
    "        if not file_path.exists():\n",
    "        pass\n",
    "    \n",
    "    def read_file(file_path: Path) -> str:\n",
    "        with file_path.open('r', encoding=ENCODING) as file:\n",
    "            return file.read()\n",
    "        \n",
    "    def parse(path: Path, request_reg: str = SPLIT_REQUEST) -> List[str]:\n",
    "        request_readed_from_txt = read_file(path)\n",
    "        requests = re.split(request_reg, request_readed_from_txt)\n",
    "        return requests\n",
    "\n",
    "    def parseParamsFromUrl(request):\n",
    "        url = parseUrl(request)\n",
    "        return urlparse.parse_qs(urlparse.urlparse(url).query)\n",
    "\n",
    "    def parseUrl(request):\n",
    "        return re.search(URL_REGEX, request).group(0)\n",
    "\n",
    "    def parseParamsFromBody(request):\n",
    "        params = {}\n",
    "        body = re.search(BODY_REGEX, request)\n",
    "\n",
    "        if body is not None:\n",
    "            body = body.group(0)\n",
    "\n",
    "            params = urlparse.parse_qs(body)\n",
    "\n",
    "        return params\n"
   ]
  },
  {
   "cell_type": "code",
   "execution_count": null,
   "metadata": {},
   "outputs": [],
   "source": []
  }
 ],
 "metadata": {
  "kernelspec": {
   "display_name": "Python 3",
   "language": "python",
   "name": "python3"
  },
  "language_info": {
   "codemirror_mode": {
    "name": "ipython",
    "version": 3
   },
   "file_extension": ".py",
   "mimetype": "text/x-python",
   "name": "python",
   "nbconvert_exporter": "python",
   "pygments_lexer": "ipython3",
   "version": "3.7.12"
  }
 },
 "nbformat": 4,
 "nbformat_minor": 2
}
