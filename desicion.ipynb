{
 "cells": [
  {
   "cell_type": "code",
   "execution_count": 1,
   "metadata": {},
   "outputs": [],
   "source": [
    "# Базовые исключения\n",
    "from pathlib import Path\n",
    "from functools import wraps\n",
    "from tqdm import trange, tqdm, tqdm_notebook\n",
    "from abc import ABC, abstractmethod\n",
    "\n",
    "\n",
    "class FileNotFound(Exception):\n",
    "    def __init__(self, message: str = \"File not found\", *args: object) -> None:\n",
    "        if len(args) == 0:\n",
    "            raise TypeError(\"FileNotFound exception requires exactly one argument.\")\n",
    "        elif len(args) > 1:\n",
    "            raise TypeError(\"FileNotFound exception requires exactly one argument, but multiple were given.\")\n",
    "        elif not (isinstance(args[0], str) or isinstance(args[0], Path)):\n",
    "            raise TypeError(\"FileNotFound exception requires a string or Path argument representing the file path.\")\n",
    "        self.filepath = args[0]\n",
    "        super().__init__(message)\n",
    "     \n",
    "    def __str__(self) -> str:\n",
    "        return super().__str__() + f\"\\nFile '{self.filepath}' not found - please check the filepath and try again.\"\n",
    "\n",
    "\n",
    "class FileFormatIsWrong(Exception):\n",
    "    def __init__(self, *args: object) -> None:\n",
    "        if len(args) == 0:\n",
    "            raise TypeError(f\"{self.__class__.__name__} exception requires exactly one argument.\")\n",
    "        elif len(args) > 1:\n",
    "            raise TypeError(f\"{self.__class__.__name__} requires exactly one argument, but multiple were given.\")\n",
    "        elif not (isinstance(args[0], str) or isinstance(args[0], Path)):\n",
    "            raise TypeError(f\"{self.__class__.__name__} exception requires a string or Path argument representing the file path.\")\n",
    "        self.message = args[0]\n",
    "        super().__init__(self.message)\n",
    "     \n",
    "    def __str__(self) -> str:\n",
    "        return super().__str__() + f\"\\nFile Format Is Wrong. Request must need start from GET|POST|PUT\"\n",
    "\n"
   ]
  },
  {
   "cell_type": "code",
   "execution_count": 2,
   "metadata": {},
   "outputs": [],
   "source": [
    "from typing import List, Tuple, overload\n",
    "from collections.abc import Sequence"
   ]
  },
  {
   "cell_type": "code",
   "execution_count": null,
   "metadata": {},
   "outputs": [],
   "source": [
    "ENCODING = 'windows-1252' # Spanish letters charset\n",
    "SHIFT = Path('../..')\n",
    "TRAIN_DATA_PATH = SHIFT / \"normalTrafficTraining.txt\"\n",
    "TEST_DATA_NORMAL_PATH = SHIFT / \"normalTrafficTest.txt\"\n",
    "TEST_DATA_ANOMALY_PATH = SHIFT / \"anomalousTrafficTest.txt\"\n",
    "def read_file(file_path: Path) -> str:\n",
    "    if not file_path.exists():\n",
    "        raise FileNotFound(\"read file error\", file_path)\n",
    "    \n",
    "        \n",
    "    with file_path.open('r', encoding=ENCODING) as file:\n",
    "        return file.read()\n",
    "\n",
    "def starts_with_method(line: str) -> bool:\n",
    "    return line.startswith(('GET', 'POST', 'PUT'))\n",
    "   \n",
    "def parse(path: Path, request_reg: str = SPLIT_REQUEST) -> List[str]:\n",
    "    request_readed_from_txt = read_file(path)\n",
    "    requests = re.split(request_reg, request_readed_from_txt)\n",
    "    rejected_indexes = []\n",
    "    for index, request in tqdm(enumerate(requests), total=len(requests)):\n",
    "        if not starts_with_method(request):\n",
    "            rejected_indexes.append(index)\n",
    "    \n",
    "    return requests"
   ]
  },
  {
   "cell_type": "code",
   "execution_count": null,
   "metadata": {},
   "outputs": [],
   "source": [
    "SPLIT_REQUEST =  r'\\n\\n(?=GET|POST)'\n",
    "def parse(path, request_reg: string):\n",
    "    with open(path) as file:\n",
    "        data = file.read()\n",
    "\n",
    "        requests = []\n",
    "        [requests.append(request.group(0)) for request in re.finditer(request_reg, data, re.MULTILINE)]\n",
    "\n",
    "        return requests"
   ]
  }
 ],
 "metadata": {
  "kernelspec": {
   "display_name": "Python 3",
   "language": "python",
   "name": "python3"
  },
  "language_info": {
   "codemirror_mode": {
    "name": "ipython",
    "version": 3
   },
   "file_extension": ".py",
   "mimetype": "text/x-python",
   "name": "python",
   "nbconvert_exporter": "python",
   "pygments_lexer": "ipython3",
   "version": "3.7.12"
  }
 },
 "nbformat": 4,
 "nbformat_minor": 2
}
