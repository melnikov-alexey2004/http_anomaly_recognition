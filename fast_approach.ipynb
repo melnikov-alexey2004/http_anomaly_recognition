{
 "cells": [
  {
   "cell_type": "code",
   "execution_count": null,
   "metadata": {},
   "outputs": [],
   "source": [
    "# Алгоритм классификации AdaBoost на решающих деревьях\n",
    "\n",
    "import numpy as np\n",
    "import matplotlib.pyplot as plt\n",
    "from sklearn.tree import DecisionTreeClassifier\n",
    "\n",
    "\n",
    "def get_grid(data):\n",
    "    x_min, x_max = data[:, 0].min() - 10, data[:, 0].max() + 10\n",
    "    y_min, y_max = data[:, 1].min() - 10, data[:, 1].max() + 10\n",
    "    return np.meshgrid(np.arange(x_min, x_max, 1), np.arange(y_min, y_max, 1))\n",
    "\n",
    "\n",
    "t = [[(85, 174), (93, 156), (103, 176), (113, 152), (123, 133), (128, 160), (147, 127), (152, 137), (180, 124), (180, 148), (205, 133), (207, 113), (199, 158), (222, 168), (235, 137), (237, 152), (265, 149), (258, 180), (237, 196), (255, 214), (270, 203), (280, 186), (280, 228), (269, 239), (300, 203), (289, 240), (279, 270), (294, 271), (308, 238), (118, 187), (154, 154)], [(157, 226), (180, 205), (179, 238), (196, 225), (171, 256), (201, 255), (184, 288), (218, 254), (215, 293), (233, 282), (217, 330), (226, 316), (241, 314), (253, 337), (267, 314), (278, 335), (286, 349), (290, 314), (309, 345), (328, 347), (329, 314), (314, 322), (342, 286), (356, 314), (360, 332), (368, 286), (376, 307), (387, 273), (384, 248), (395, 289), (377, 263), (389, 213), (409, 224), (409, 258), (376, 202), (380, 169), (408, 186), (408, 205), (424, 164), (406, 149), (436, 197), (427, 242), (419, 273), (402, 313), (380, 335)]]\n",
    "n1 = len(t[0])\n",
    "n2 = len(t[1])\n",
    "\n",
    "train_data = np.r_[t[0], t[1]]\n",
    "train_labels = np.r_[np.ones(n1) * -1, np.ones(n2)]\n",
    "\n",
    "# x, y = train_data[:, 0], train_data[:, 1]\n",
    "# plt.scatter(x[train_labels == -1], y[train_labels == -1])\n",
    "# plt.scatter(x[train_labels == 1], y[train_labels == 1])\n",
    "# plt.show()\n",
    "\n",
    "XN = len(train_data)    # длина обучающей выборки\n",
    "T = 1                   # число алгоритмов в композиции\n",
    "max_depth = 2           # максимальная глубина решающих деревьев\n",
    "w = np.ones(XN) / XN    # начальные значения весов для объектов выборки\n",
    "algs = []               # список из полученных алгоритмов\n",
    "alfa = []               # список из вычисленных весов для композиции\n",
    "\n",
    "for n in range(T):\n",
    "    # создаем и обучаем решающее дерево с весами объектов w\n",
    "    algs.append(DecisionTreeClassifier(criterion='gini', max_depth=max_depth))\n",
    "    algs[n].fit(train_data, train_labels, sample_weight=w)\n",
    "\n",
    "    predicted = algs[n].predict(train_data) # формируем прогнозы полученного дерева по обучающей выборке\n",
    "    N = np.sum(np.abs(train_labels - predicted) / 2 * w)   # вычисляем долю неверных классификаций\n",
    "    alfa.append( 0.5 * np.log((1 - N) / N) if N != 0 else np.log((1-1e-8) / 1e-8) ) # вычисляем вес для текущего алгоритма\n",
    "\n",
    "    # пересчитываем веса объектов выборки\n",
    "    w = w * np.exp(-1 * alfa[n] * train_labels * predicted)\n",
    "    w = w / np.sum(w)\n",
    "\n",
    "\n",
    "# вычисляем число ошибок классификации на основе полученной композиции\n",
    "predicted = alfa[0] * algs[0].predict(train_data)\n",
    "for n in range(1, T):\n",
    "    predicted += alfa[n] * algs[n].predict(train_data)\n",
    "\n",
    "N = np.sum(np.abs(train_labels - np.sign(predicted)) / 2)\n",
    "print(f\"Число ошибок на обучающей выборке: {N} при композиции {T} решающих деревьев\")\n",
    "\n",
    "\n",
    "# отображаем полученные результаты классификации\n",
    "xx, yy = get_grid(train_data)\n",
    "predicted = alfa[0] * algs[0].predict(np.c_[xx.ravel(), yy.ravel()]).reshape(xx.shape)\n",
    "for n in range(1, T):\n",
    "    predicted += alfa[n] * algs[n].predict(np.c_[xx.ravel(), yy.ravel()]).reshape(xx.shape)\n",
    "\n",
    "plt.pcolormesh(xx, yy, predicted, cmap='spring', shading='auto')\n",
    "plt.scatter(train_data[:, 0], train_data[:, 1], c=train_labels, s=5000 * w, cmap='spring', edgecolors='black', linewidth=1.5)\n",
    "plt.show()"
   ]
  },
  {
   "cell_type": "code",
   "execution_count": 1,
   "metadata": {},
   "outputs": [],
   "source": [
    "import pandas as pd\n",
    "from pathlib import Path\n",
    "shift = Path('../..')\n",
    "encoding = 'windows-1252'\n",
    "df = pd.read_csv(shift/Path('csic_database.csv'), encoding=encoding)"
   ]
  },
  {
   "cell_type": "code",
   "execution_count": 2,
   "metadata": {},
   "outputs": [
    {
     "data": {
      "text/html": [
       "<div>\n",
       "<style scoped>\n",
       "    .dataframe tbody tr th:only-of-type {\n",
       "        vertical-align: middle;\n",
       "    }\n",
       "\n",
       "    .dataframe tbody tr th {\n",
       "        vertical-align: top;\n",
       "    }\n",
       "\n",
       "    .dataframe thead th {\n",
       "        text-align: right;\n",
       "    }\n",
       "</style>\n",
       "<table border=\"1\" class=\"dataframe\">\n",
       "  <thead>\n",
       "    <tr style=\"text-align: right;\">\n",
       "      <th></th>\n",
       "      <th>Unnamed: 0</th>\n",
       "      <th>Method</th>\n",
       "      <th>User-Agent</th>\n",
       "      <th>Pragma</th>\n",
       "      <th>Cache-Control</th>\n",
       "      <th>Accept</th>\n",
       "      <th>Accept-encoding</th>\n",
       "      <th>Accept-charset</th>\n",
       "      <th>language</th>\n",
       "      <th>host</th>\n",
       "      <th>cookie</th>\n",
       "      <th>content-type</th>\n",
       "      <th>connection</th>\n",
       "      <th>lenght</th>\n",
       "      <th>content</th>\n",
       "      <th>classification</th>\n",
       "      <th>URL</th>\n",
       "    </tr>\n",
       "  </thead>\n",
       "  <tbody>\n",
       "    <tr>\n",
       "      <th>0</th>\n",
       "      <td>Normal</td>\n",
       "      <td>GET</td>\n",
       "      <td>Mozilla/5.0 (compatible; Konqueror/3.5; Linux)...</td>\n",
       "      <td>no-cache</td>\n",
       "      <td>no-cache</td>\n",
       "      <td>text/xml,application/xml,application/xhtml+xml...</td>\n",
       "      <td>x-gzip, x-deflate, gzip, deflate</td>\n",
       "      <td>utf-8, utf-8;q=0.5, *;q=0.5</td>\n",
       "      <td>en</td>\n",
       "      <td>localhost:8080</td>\n",
       "      <td>JSESSIONID=1F767F17239C9B670A39E9B10C3825F4</td>\n",
       "      <td>NaN</td>\n",
       "      <td>close</td>\n",
       "      <td>NaN</td>\n",
       "      <td>NaN</td>\n",
       "      <td>0</td>\n",
       "      <td>http://localhost:8080/tienda1/index.jsp HTTP/1.1</td>\n",
       "    </tr>\n",
       "    <tr>\n",
       "      <th>1</th>\n",
       "      <td>Normal</td>\n",
       "      <td>GET</td>\n",
       "      <td>Mozilla/5.0 (compatible; Konqueror/3.5; Linux)...</td>\n",
       "      <td>no-cache</td>\n",
       "      <td>no-cache</td>\n",
       "      <td>text/xml,application/xml,application/xhtml+xml...</td>\n",
       "      <td>x-gzip, x-deflate, gzip, deflate</td>\n",
       "      <td>utf-8, utf-8;q=0.5, *;q=0.5</td>\n",
       "      <td>en</td>\n",
       "      <td>localhost:8080</td>\n",
       "      <td>JSESSIONID=81761ACA043B0E6014CA42A4BCD06AB5</td>\n",
       "      <td>NaN</td>\n",
       "      <td>close</td>\n",
       "      <td>NaN</td>\n",
       "      <td>NaN</td>\n",
       "      <td>0</td>\n",
       "      <td>http://localhost:8080/tienda1/publico/anadir.j...</td>\n",
       "    </tr>\n",
       "    <tr>\n",
       "      <th>2</th>\n",
       "      <td>Normal</td>\n",
       "      <td>POST</td>\n",
       "      <td>Mozilla/5.0 (compatible; Konqueror/3.5; Linux)...</td>\n",
       "      <td>no-cache</td>\n",
       "      <td>no-cache</td>\n",
       "      <td>text/xml,application/xml,application/xhtml+xml...</td>\n",
       "      <td>x-gzip, x-deflate, gzip, deflate</td>\n",
       "      <td>utf-8, utf-8;q=0.5, *;q=0.5</td>\n",
       "      <td>en</td>\n",
       "      <td>localhost:8080</td>\n",
       "      <td>JSESSIONID=933185092E0B668B90676E0A2B0767AF</td>\n",
       "      <td>application/x-www-form-urlencoded</td>\n",
       "      <td>Connection: close</td>\n",
       "      <td>Content-Length: 68</td>\n",
       "      <td>id=3&amp;nombre=Vino+Rioja&amp;precio=100&amp;cantidad=55&amp;...</td>\n",
       "      <td>0</td>\n",
       "      <td>http://localhost:8080/tienda1/publico/anadir.j...</td>\n",
       "    </tr>\n",
       "    <tr>\n",
       "      <th>3</th>\n",
       "      <td>Normal</td>\n",
       "      <td>GET</td>\n",
       "      <td>Mozilla/5.0 (compatible; Konqueror/3.5; Linux)...</td>\n",
       "      <td>no-cache</td>\n",
       "      <td>no-cache</td>\n",
       "      <td>text/xml,application/xml,application/xhtml+xml...</td>\n",
       "      <td>x-gzip, x-deflate, gzip, deflate</td>\n",
       "      <td>utf-8, utf-8;q=0.5, *;q=0.5</td>\n",
       "      <td>en</td>\n",
       "      <td>localhost:8080</td>\n",
       "      <td>JSESSIONID=8FA18BA82C5336D03D3A8AFA3E68CBB0</td>\n",
       "      <td>NaN</td>\n",
       "      <td>close</td>\n",
       "      <td>NaN</td>\n",
       "      <td>NaN</td>\n",
       "      <td>0</td>\n",
       "      <td>http://localhost:8080/tienda1/publico/autentic...</td>\n",
       "    </tr>\n",
       "    <tr>\n",
       "      <th>4</th>\n",
       "      <td>Normal</td>\n",
       "      <td>POST</td>\n",
       "      <td>Mozilla/5.0 (compatible; Konqueror/3.5; Linux)...</td>\n",
       "      <td>no-cache</td>\n",
       "      <td>no-cache</td>\n",
       "      <td>text/xml,application/xml,application/xhtml+xml...</td>\n",
       "      <td>x-gzip, x-deflate, gzip, deflate</td>\n",
       "      <td>utf-8, utf-8;q=0.5, *;q=0.5</td>\n",
       "      <td>en</td>\n",
       "      <td>localhost:8080</td>\n",
       "      <td>JSESSIONID=7104E6C68A6BCF1423DAE990CE49FEE2</td>\n",
       "      <td>application/x-www-form-urlencoded</td>\n",
       "      <td>Connection: close</td>\n",
       "      <td>Content-Length: 63</td>\n",
       "      <td>modo=entrar&amp;login=choong&amp;pwd=d1se3ci%F3n&amp;remem...</td>\n",
       "      <td>0</td>\n",
       "      <td>http://localhost:8080/tienda1/publico/autentic...</td>\n",
       "    </tr>\n",
       "  </tbody>\n",
       "</table>\n",
       "</div>"
      ],
      "text/plain": [
       "  Unnamed: 0 Method                                         User-Agent  \\\n",
       "0     Normal    GET  Mozilla/5.0 (compatible; Konqueror/3.5; Linux)...   \n",
       "1     Normal    GET  Mozilla/5.0 (compatible; Konqueror/3.5; Linux)...   \n",
       "2     Normal   POST  Mozilla/5.0 (compatible; Konqueror/3.5; Linux)...   \n",
       "3     Normal    GET  Mozilla/5.0 (compatible; Konqueror/3.5; Linux)...   \n",
       "4     Normal   POST  Mozilla/5.0 (compatible; Konqueror/3.5; Linux)...   \n",
       "\n",
       "     Pragma Cache-Control                                             Accept  \\\n",
       "0  no-cache      no-cache  text/xml,application/xml,application/xhtml+xml...   \n",
       "1  no-cache      no-cache  text/xml,application/xml,application/xhtml+xml...   \n",
       "2  no-cache      no-cache  text/xml,application/xml,application/xhtml+xml...   \n",
       "3  no-cache      no-cache  text/xml,application/xml,application/xhtml+xml...   \n",
       "4  no-cache      no-cache  text/xml,application/xml,application/xhtml+xml...   \n",
       "\n",
       "                    Accept-encoding               Accept-charset language  \\\n",
       "0  x-gzip, x-deflate, gzip, deflate  utf-8, utf-8;q=0.5, *;q=0.5       en   \n",
       "1  x-gzip, x-deflate, gzip, deflate  utf-8, utf-8;q=0.5, *;q=0.5       en   \n",
       "2  x-gzip, x-deflate, gzip, deflate  utf-8, utf-8;q=0.5, *;q=0.5       en   \n",
       "3  x-gzip, x-deflate, gzip, deflate  utf-8, utf-8;q=0.5, *;q=0.5       en   \n",
       "4  x-gzip, x-deflate, gzip, deflate  utf-8, utf-8;q=0.5, *;q=0.5       en   \n",
       "\n",
       "             host                                       cookie  \\\n",
       "0  localhost:8080  JSESSIONID=1F767F17239C9B670A39E9B10C3825F4   \n",
       "1  localhost:8080  JSESSIONID=81761ACA043B0E6014CA42A4BCD06AB5   \n",
       "2  localhost:8080  JSESSIONID=933185092E0B668B90676E0A2B0767AF   \n",
       "3  localhost:8080  JSESSIONID=8FA18BA82C5336D03D3A8AFA3E68CBB0   \n",
       "4  localhost:8080  JSESSIONID=7104E6C68A6BCF1423DAE990CE49FEE2   \n",
       "\n",
       "                        content-type         connection              lenght  \\\n",
       "0                                NaN              close                 NaN   \n",
       "1                                NaN              close                 NaN   \n",
       "2  application/x-www-form-urlencoded  Connection: close  Content-Length: 68   \n",
       "3                                NaN              close                 NaN   \n",
       "4  application/x-www-form-urlencoded  Connection: close  Content-Length: 63   \n",
       "\n",
       "                                             content  classification  \\\n",
       "0                                                NaN               0   \n",
       "1                                                NaN               0   \n",
       "2  id=3&nombre=Vino+Rioja&precio=100&cantidad=55&...               0   \n",
       "3                                                NaN               0   \n",
       "4  modo=entrar&login=choong&pwd=d1se3ci%F3n&remem...               0   \n",
       "\n",
       "                                                 URL  \n",
       "0   http://localhost:8080/tienda1/index.jsp HTTP/1.1  \n",
       "1  http://localhost:8080/tienda1/publico/anadir.j...  \n",
       "2  http://localhost:8080/tienda1/publico/anadir.j...  \n",
       "3  http://localhost:8080/tienda1/publico/autentic...  \n",
       "4  http://localhost:8080/tienda1/publico/autentic...  "
      ]
     },
     "execution_count": 2,
     "metadata": {},
     "output_type": "execute_result"
    }
   ],
   "source": [
    "df.head(5)"
   ]
  },
  {
   "cell_type": "code",
   "execution_count": 2,
   "metadata": {},
   "outputs": [
    {
     "name": "stderr",
     "output_type": "stream",
     "text": [
      "100%|██████████| 36000/36000 [00:00<00:00, 878214.57it/s]\n",
      "100%|██████████| 36000/36000 [00:00<00:00, 857243.92it/s]\n",
      "100%|██████████| 24668/24668 [00:00<00:00, 913889.55it/s]\n"
     ]
    }
   ],
   "source": [
    "import re\n",
    "# from typing_extensions import List\n",
    "from pathlib import Path\n",
    "from tqdm import tqdm\n",
    "\n",
    "\n",
    "SHIFT = Path('../..')\n",
    "TRAIN_DATA_PATH = \"normalTrafficTraining.txt\"\n",
    "TEST_DATA_NORMAL_PATH =  \"normalTrafficTest.txt\"\n",
    "TEST_DATA_ANOMALY_PATH =  \"anomalousTrafficTest.txt\"\n",
    "SPLIT_REQUEST =  r'\\n\\n(?=GET|POST)'\n",
    "encoding = 'windows-1252'\n",
    "\n",
    "def read_file(file_path: Path) -> str:\n",
    "    if not file_path.exists():\n",
    "        raise FileExistsError(str(file_path))\n",
    "    \n",
    "    with file_path.open('r', encoding=encoding) as file:\n",
    "        return file.read()\n",
    "\n",
    "def starts_with_method(line: str, method: str = 'GET') -> bool:\n",
    "    return line.startswith(method)\n",
    "\n",
    "def parse(path: Path, request_reg: str = SPLIT_REQUEST, shift: Path = SHIFT, method: str = 'GET'): #-> List[str]:\n",
    "    request_readed_from_txt = read_file(shift / path)\n",
    "    requests = re.split(request_reg, request_readed_from_txt)\n",
    "    needed_requests = []\n",
    "    for index, request in tqdm(enumerate(requests), total=len(requests)):\n",
    "        if starts_with_method(request):\n",
    "            needed_requests.append(request)\n",
    "    return needed_requests\n",
    "\n",
    "request_TRAIN_DATA = parse(TRAIN_DATA_PATH)\n",
    "request_TEST_DATA_NORMAL = parse(TEST_DATA_NORMAL_PATH)\n",
    "request_TEST_DATA_ANOMALY = parse(TEST_DATA_ANOMALY_PATH)\n"
   ]
  },
  {
   "cell_type": "code",
   "execution_count": 3,
   "metadata": {},
   "outputs": [
    {
     "name": "stdout",
     "output_type": "stream",
     "text": [
      "28000 28000 15088\n"
     ]
    }
   ],
   "source": [
    "print(len(request_TRAIN_DATA), len(request_TEST_DATA_NORMAL), len(request_TEST_DATA_ANOMALY))"
   ]
  },
  {
   "cell_type": "code",
   "execution_count": 4,
   "metadata": {},
   "outputs": [
    {
     "name": "stdout",
     "output_type": "stream",
     "text": [
      "GET http://localhost:8080/tienda1/index.jsp HTTP/1.1\n",
      "User-Agent: Mozilla/5.0 (compatible; Konqueror/3.5; Linux) KHTML/3.5.8 (like Gecko)\n",
      "Pragma: no-cache\n",
      "Cache-control: no-cache\n",
      "Accept: text/xml,application/xml,application/xhtml+xml,text/html;q=0.9,text/plain;q=0.8,image/png,*/*;q=0.5\n",
      "Accept-Encoding: x-gzip, x-deflate, gzip, deflate\n",
      "Accept-Charset: utf-8, utf-8;q=0.5, *;q=0.5\n",
      "Accept-Language: en\n",
      "Host: localhost:8080\n",
      "Cookie: JSESSIONID=1F767F17239C9B670A39E9B10C3825F4\n",
      "Connection: close\n",
      "\n"
     ]
    }
   ],
   "source": [
    "print(request_TRAIN_DATA[0])"
   ]
  },
  {
   "cell_type": "code",
   "execution_count": 9,
   "metadata": {},
   "outputs": [
    {
     "name": "stdout",
     "output_type": "stream",
     "text": [
      "59 44\n",
      "{'1F767F17239C9B670A39E9B10C3825F4',\n",
      " '8080',\n",
      " 'Accept',\n",
      " 'Agent',\n",
      " 'Cache',\n",
      " 'Charset',\n",
      " 'Connection',\n",
      " 'Cookie',\n",
      " 'Encoding',\n",
      " 'GET',\n",
      " 'Gecko',\n",
      " 'HTTP',\n",
      " 'Host',\n",
      " 'JSESSIONID',\n",
      " 'KHTML',\n",
      " 'Konqueror',\n",
      " 'Language',\n",
      " 'Linux',\n",
      " 'Mozilla',\n",
      " 'Pragma',\n",
      " 'User',\n",
      " 'application',\n",
      " 'cache',\n",
      " 'close',\n",
      " 'compatible',\n",
      " 'control',\n",
      " 'deflate',\n",
      " 'en',\n",
      " 'gzip',\n",
      " 'html',\n",
      " 'http',\n",
      " 'image',\n",
      " 'index',\n",
      " 'jsp',\n",
      " 'like',\n",
      " 'localhost',\n",
      " 'no',\n",
      " 'plain',\n",
      " 'png',\n",
      " 'text',\n",
      " 'tienda1',\n",
      " 'utf',\n",
      " 'xhtml',\n",
      " 'xml'}\n"
     ]
    }
   ],
   "source": [
    "from pprint import pprint\n",
    "token_pattern='(?u)\\\\b\\\\w\\\\w+\\\\b'\n",
    "tokens = re.findall(token_pattern, request_TRAIN_DATA[0])\n",
    "\n",
    "# pprint(tokens)\n",
    "unique_tokens = set(tokens)\n",
    "print(len(tokens), len(unique_tokens))\n",
    "pprint(unique_tokens)"
   ]
  },
  {
   "cell_type": "code",
   "execution_count": 17,
   "metadata": {},
   "outputs": [],
   "source": [
    "from sklearn.feature_extraction.text import TfidfVectorizer\n",
    "from nltk.tokenize import WordPunctTokenizer\n",
    "\n",
    "wp_tokenizer = WordPunctTokenizer()\n",
    "def tokenize(text):\n",
    "    return wp_tokenizer.tokenize(text)\n",
    "vectorizer = TfidfVectorizer(encoding=encoding, strip_accents='unicode', tokenizer=tokenize)\n"
   ]
  },
  {
   "cell_type": "code",
   "execution_count": 19,
   "metadata": {},
   "outputs": [
    {
     "name": "stdout",
     "output_type": "stream",
     "text": [
      "63 ['(' ')' '*;' '+' ',' ',*/*;' '-' '.' '/' '0' '1'\n",
      " '1f767f17239c9b670a39e9b10c3825f4' '3' '5' '8' '8080' '9' ':' '://' ';'\n",
      " '=' 'accept' 'agent' 'application' 'cache' 'charset' 'close' 'compatible'\n",
      " 'connection' 'control' 'cookie' 'deflate' 'en' 'encoding' 'gecko' 'get'\n",
      " 'gzip' 'host' 'html' 'http' 'image' 'index' 'jsessionid' 'jsp' 'khtml'\n",
      " 'konqueror' 'language' 'like' 'linux' 'localhost' 'mozilla' 'no' 'plain'\n",
      " 'png' 'pragma' 'q' 'text' 'tienda1' 'user' 'utf' 'x' 'xhtml' 'xml']\n"
     ]
    }
   ],
   "source": [
    "vectorizer.fit([request_TRAIN_DATA[0]])\n",
    "tokens = vectorizer.get_feature_names_out()\n",
    "print(len(tokens), tokens)"
   ]
  },
  {
   "cell_type": "code",
   "execution_count": 41,
   "metadata": {},
   "outputs": [
    {
     "name": "stdout",
     "output_type": "stream",
     "text": [
      "2000\n"
     ]
    }
   ],
   "source": [
    "vectorizer = TfidfVectorizer(encoding=encoding, strip_accents='unicode', tokenizer=tokenize, \\\n",
    "    max_features=2000, max_df = 0.7, min_df = 0.0001)\n",
    "X_TRAIN_DATA = vectorizer.fit_transform(request_TRAIN_DATA)\n",
    "tokens = vectorizer.get_feature_names_out()\n",
    "print(len(tokens))"
   ]
  },
  {
   "cell_type": "code",
   "execution_count": 42,
   "metadata": {},
   "outputs": [],
   "source": [
    "X_TEST_DATA_ANOMALY = vectorizer.transform(request_TEST_DATA_ANOMALY)\n",
    "X_TEST_DATA_NORMAL = vectorizer.transform(request_TEST_DATA_NORMAL)\n"
   ]
  },
  {
   "cell_type": "code",
   "execution_count": 58,
   "metadata": {},
   "outputs": [
    {
     "name": "stdout",
     "output_type": "stream",
     "text": [
      "(28000, 2000) (15088, 2000) (28000, 2000)\n"
     ]
    }
   ],
   "source": [
    "print(X_TRAIN_DATA.shape, X_TEST_DATA_ANOMALY.shape, X_TEST_DATA_NORMAL.shape)"
   ]
  },
  {
   "cell_type": "code",
   "execution_count": 63,
   "metadata": {},
   "outputs": [],
   "source": [
    "import numpy as np\n",
    "import matplotlib.pyplot as plt\n",
    "from sklearn.tree import DecisionTreeClassifier\n",
    "from random import random\n",
    "from sklearn.utils import shuffle\n",
    "\n",
    "X_TRAIN = np.concatenate((X_TRAIN_DATA.toarray(), X_TEST_DATA_ANOMALY.toarray()))\n",
    "Y_TRAIN = np.concatenate((np.ones(X_TRAIN_DATA.shape[0]), -np.ones(X_TEST_DATA_ANOMALY.shape[0])))\n",
    "# X_TRAIN, Y_TRAIN = shuffle(X_TRAIN, Y_TRAIN, random_state=0)"
   ]
  },
  {
   "cell_type": "code",
   "execution_count": 64,
   "metadata": {},
   "outputs": [
    {
     "name": "stdout",
     "output_type": "stream",
     "text": [
      "(43088, 2000)\n",
      "(43088,)\n"
     ]
    }
   ],
   "source": [
    "print(X_TRAIN.shape, Y_TRAIN.shape, sep='\\n')"
   ]
  },
  {
   "cell_type": "code",
   "execution_count": 110,
   "metadata": {},
   "outputs": [
    {
     "name": "stderr",
     "output_type": "stream",
     "text": [
      "100%|██████████| 15/15 [02:53<00:00, 11.57s/it, err_rate=1019.0]\n"
     ]
    },
    {
     "name": "stdout",
     "output_type": "stream",
     "text": [
      "Число ошибок на обучающей выборке: 1013.0 при композиции 15 решающих деревьев\n"
     ]
    }
   ],
   "source": [
    "from tqdm import trange\n",
    "from sklearn.ensemble import RandomForestClassifier\n",
    "train_data = X_TRAIN\n",
    "train_labels = Y_TRAIN\n",
    "\n",
    "XN = len(train_data)    # длина обучающей выборки\n",
    "T = 15                   # число алгоритмов в композиции\n",
    "max_depth = 15           # максимальная глубина решающих деревьев\n",
    "w = np.ones(XN) / XN    # начальные значения весов для объектов выборки\n",
    "algs = []               # список из полученных алгоритмов\n",
    "alfa = []               # список из вычисленных весов для композиции\n",
    "\n",
    "with trange(T) as iterT:\n",
    "    for n in iterT:\n",
    "        # создаем и обучаем решающее дерево с весами объектов w\n",
    "        algs.append(RandomForestClassifier(n_estimators=50, criterion='gini', max_depth=max_depth, random_state=2024, n_jobs=-1))\n",
    "        algs[n].fit(train_data, train_labels, sample_weight=w)\n",
    "\n",
    "        predicted = algs[n].predict(train_data) # формируем прогнозы полученного дерева по обучающей выборке\n",
    "        N = np.sum(np.abs(train_labels - predicted) / 2 * w)   # вычисляем долю неверных классификаций\n",
    "        alfa.append( 0.5 * np.log((1 - N) / N) if N != 0 else np.log((1-1e-8) / 1e-8) ) # вычисляем вес для текущего алгоритма\n",
    "\n",
    "        # пересчитываем веса объектов выборки\n",
    "        w = w * np.exp(-1 * alfa[n] * train_labels * predicted)\n",
    "        w = w / np.sum(w)\n",
    "        \n",
    "        # вычисляем число ошибок классификации на основе полученной композиции\n",
    "        predicted = alfa[0] * algs[0].predict(train_data)\n",
    "        for kn in range(1, n):\n",
    "            predicted += alfa[kn] * algs[kn].predict(train_data)\n",
    "\n",
    "        N = np.sum(np.abs(train_labels - np.sign(predicted)) / 2)\n",
    "        iterT.set_postfix(err_rate = N)\n",
    "        \n",
    "\n",
    "# вычисляем число ошибок классификации на основе полученной композиции\n",
    "predicted = alfa[0] * algs[0].predict(train_data)\n",
    "for n in range(1, T):\n",
    "    predicted += alfa[n] * algs[n].predict(train_data)\n",
    "\n",
    "N = np.sum(np.abs(train_labels - np.sign(predicted)) / 2)\n",
    "print(f\"Число ошибок на обучающей выборке: {N} при композиции {T} решающих деревьев\")\n",
    "\n",
    "\n",
    "# train_labels"
   ]
  },
  {
   "cell_type": "code",
   "execution_count": 111,
   "metadata": {},
   "outputs": [
    {
     "name": "stdout",
     "output_type": "stream",
     "text": [
      "0.976489974006684\n",
      "0.9630714285714286\n"
     ]
    }
   ],
   "source": [
    "print(do_predict(train_data, train_labels))\n",
    "test_data = X_TEST_DATA_NORMAL.toarray()\n",
    "test_labels = np.ones(test_data.shape[0])\n",
    "print(do_predict(test_data, test_labels))"
   ]
  },
  {
   "cell_type": "markdown",
   "metadata": {},
   "source": [
    "100%|██████████| 1/1 [00:17<00:00, 17.64s/it]\n",
    "Число ошибок на обучающей выборке: 7227.0 при композиции 1 решающих деревьев\n",
    "\n",
    "100%|██████████| 6/6 [01:44<00:00, 17.34s/it]\n",
    "Число ошибок на обучающей выборке: 2714.0 при композиции 6 решающих деревьев\n",
    "\n",
    "100%|██████████| 25/25 [09:36<00:00, 23.06s/it]\n",
    "Число ошибок на обучающей выборке: 2376.0 при композиции 25 решающих деревьев"
   ]
  },
  {
   "cell_type": "code",
   "execution_count": 112,
   "metadata": {},
   "outputs": [
    {
     "data": {
      "text/plain": [
       "<matplotlib.lines.Line2D at 0x17b10bc2708>"
      ]
     },
     "execution_count": 112,
     "metadata": {},
     "output_type": "execute_result"
    },
    {
     "data": {
      "image/png": "[encoded data removed]",
      "text/plain": [
       "<Figure size 640x480 with 1 Axes>"
      ]
     },
     "metadata": {},
     "output_type": "display_data"
    }
   ],
   "source": [
    "plt.plot(w)\n",
    "plt.axvline(x=X_TRAIN_DATA.shape[0], c='r')"
   ]
  },
  {
   "cell_type": "code",
   "execution_count": 120,
   "metadata": {},
   "outputs": [
    {
     "data": {
      "text/plain": [
       "(43088, 1)"
      ]
     },
     "execution_count": 120,
     "metadata": {},
     "output_type": "execute_result"
    }
   ],
   "source": [
    "w[:, None].shape"
   ]
  },
  {
   "cell_type": "code",
   "execution_count": 130,
   "metadata": {},
   "outputs": [
    {
     "name": "stdout",
     "output_type": "stream",
     "text": [
      "0.8258971871968962\n",
      "0.8256680731364275\n"
     ]
    }
   ],
   "source": [
    "from sklearn.linear_model import SGDClassifier, LogisticRegression\n",
    "from sklearn.model_selection import train_test_split\n",
    "from sklearn.preprocessing import PolynomialFeatures\n",
    "from sklearn.preprocessing import StandardScaler\n",
    "X_train, X_test, y_train, y_test = train_test_split(\n",
    "    w[:, None], train_labels, test_size=0.33, random_state=42, stratify=train_labels)\n",
    "log_reg = SGDClassifier(random_state=2024)\n",
    "sc = StandardScaler()\n",
    "poly = PolynomialFeatures(4)\n",
    "X_train = sc.fit_transform(poly.fit_transform(X_train))\n",
    "log_reg.fit(X_train, y_train)\n",
    "print(accuracy_score(log_reg.predict(X_train), y_train), accuracy_score(log_reg.predict(sc.transform(poly.transform(X_test))), y_test), sep='\\n')"
   ]
  },
  {
   "cell_type": "code",
   "execution_count": 94,
   "metadata": {},
   "outputs": [
    {
     "name": "stdout",
     "output_type": "stream",
     "text": [
      "0.9520714285714286\n",
      "0.9448570367619755\n"
     ]
    }
   ],
   "source": [
    "from sklearn.metrics import accuracy_score\n",
    "\n",
    "test_data = X_TEST_DATA_NORMAL.toarray()\n",
    "test_labels = np.ones(test_data.shape[0])\n",
    "def do_predict(test_data, test_labels):\n",
    "    predicted = alfa[0] * algs[0].predict(test_data)\n",
    "    for n in range(1, T):\n",
    "        predicted += alfa[n] * algs[n].predict(test_data)\n",
    "    return accuracy_score(test_labels, np.sign(predicted))\n",
    "print(do_predict(test_data, test_labels))\n",
    "print(do_predict(train_data, train_labels))"
   ]
  },
  {
   "cell_type": "code",
   "execution_count": 93,
   "metadata": {},
   "outputs": [
    {
     "name": "stdout",
     "output_type": "stream",
     "text": [
      "0.9520714285714286\n"
     ]
    }
   ],
   "source": [
    "\n",
    "print(accuracy_score(train_labels, np.sign(predicted)))\n",
    "print(accuracy_score(test_labels, np.sign(predicted)))"
   ]
  },
  {
   "cell_type": "code",
   "execution_count": 90,
   "metadata": {},
   "outputs": [
    {
     "data": {
      "text/plain": [
       "(28000, 2000)"
      ]
     },
     "execution_count": 90,
     "metadata": {},
     "output_type": "execute_result"
    }
   ],
   "source": [
    "print(X_TEST_DATA_NORMAL.shape,)"
   ]
  },
  {
   "cell_type": "code",
   "execution_count": null,
   "metadata": {},
   "outputs": [],
   "source": [
    "# Dubble 2\n",
    "\n",
    "X_TRAIN = X_TRAIN_DATA.toarray()\n",
    "Y_TRAIN = np.ones(X_TRAIN_DATA.shape[0])\n",
    "# X_TRAIN, Y_TRAIN = shuffle(X_TRAIN, Y_TRAIN, random_state=0)"
   ]
  },
  {
   "cell_type": "code",
   "execution_count": null,
   "metadata": {},
   "outputs": [],
   "source": []
  },
  {
   "cell_type": "code",
   "execution_count": 106,
   "metadata": {},
   "outputs": [
    {
     "data": {
      "text/html": [
       "<div>\n",
       "<style scoped>\n",
       "    .dataframe tbody tr th:only-of-type {\n",
       "        vertical-align: middle;\n",
       "    }\n",
       "\n",
       "    .dataframe tbody tr th {\n",
       "        vertical-align: top;\n",
       "    }\n",
       "\n",
       "    .dataframe thead th {\n",
       "        text-align: right;\n",
       "    }\n",
       "</style>\n",
       "<table border=\"1\" class=\"dataframe\">\n",
       "  <thead>\n",
       "    <tr style=\"text-align: right;\">\n",
       "      <th></th>\n",
       "      <th>0</th>\n",
       "    </tr>\n",
       "  </thead>\n",
       "  <tbody>\n",
       "    <tr>\n",
       "      <th>count</th>\n",
       "      <td>2.800000e+04</td>\n",
       "    </tr>\n",
       "    <tr>\n",
       "      <th>mean</th>\n",
       "      <td>1.848177e-05</td>\n",
       "    </tr>\n",
       "    <tr>\n",
       "      <th>std</th>\n",
       "      <td>1.708608e-05</td>\n",
       "    </tr>\n",
       "    <tr>\n",
       "      <th>min</th>\n",
       "      <td>4.587607e-07</td>\n",
       "    </tr>\n",
       "    <tr>\n",
       "      <th>25%</th>\n",
       "      <td>1.494060e-05</td>\n",
       "    </tr>\n",
       "    <tr>\n",
       "      <th>50%</th>\n",
       "      <td>2.011999e-05</td>\n",
       "    </tr>\n",
       "    <tr>\n",
       "      <th>75%</th>\n",
       "      <td>2.048694e-05</td>\n",
       "    </tr>\n",
       "    <tr>\n",
       "      <th>max</th>\n",
       "      <td>6.354350e-04</td>\n",
       "    </tr>\n",
       "  </tbody>\n",
       "</table>\n",
       "</div>"
      ],
      "text/plain": [
       "                  0\n",
       "count  2.800000e+04\n",
       "mean   1.848177e-05\n",
       "std    1.708608e-05\n",
       "min    4.587607e-07\n",
       "25%    1.494060e-05\n",
       "50%    2.011999e-05\n",
       "75%    2.048694e-05\n",
       "max    6.354350e-04"
      ]
     },
     "execution_count": 106,
     "metadata": {},
     "output_type": "execute_result"
    }
   ],
   "source": [
    "import pandas as pd\n",
    "ind = X_TRAIN_DATA.shape[0]\n",
    "pd.DataFrame(data=w[:ind]).describe()"
   ]
  },
  {
   "cell_type": "code",
   "execution_count": 107,
   "metadata": {},
   "outputs": [
    {
     "data": {
      "text/html": [
       "<div>\n",
       "<style scoped>\n",
       "    .dataframe tbody tr th:only-of-type {\n",
       "        vertical-align: middle;\n",
       "    }\n",
       "\n",
       "    .dataframe tbody tr th {\n",
       "        vertical-align: top;\n",
       "    }\n",
       "\n",
       "    .dataframe thead th {\n",
       "        text-align: right;\n",
       "    }\n",
       "</style>\n",
       "<table border=\"1\" class=\"dataframe\">\n",
       "  <thead>\n",
       "    <tr style=\"text-align: right;\">\n",
       "      <th></th>\n",
       "      <th>0</th>\n",
       "    </tr>\n",
       "  </thead>\n",
       "  <tbody>\n",
       "    <tr>\n",
       "      <th>count</th>\n",
       "      <td>1.508800e+04</td>\n",
       "    </tr>\n",
       "    <tr>\n",
       "      <th>mean</th>\n",
       "      <td>3.197974e-05</td>\n",
       "    </tr>\n",
       "    <tr>\n",
       "      <th>std</th>\n",
       "      <td>1.045110e-04</td>\n",
       "    </tr>\n",
       "    <tr>\n",
       "      <th>min</th>\n",
       "      <td>4.587607e-07</td>\n",
       "    </tr>\n",
       "    <tr>\n",
       "      <th>25%</th>\n",
       "      <td>4.587607e-07</td>\n",
       "    </tr>\n",
       "    <tr>\n",
       "      <th>50%</th>\n",
       "      <td>1.239189e-06</td>\n",
       "    </tr>\n",
       "    <tr>\n",
       "      <th>75%</th>\n",
       "      <td>7.472057e-06</td>\n",
       "    </tr>\n",
       "    <tr>\n",
       "      <th>max</th>\n",
       "      <td>2.161944e-03</td>\n",
       "    </tr>\n",
       "  </tbody>\n",
       "</table>\n",
       "</div>"
      ],
      "text/plain": [
       "                  0\n",
       "count  1.508800e+04\n",
       "mean   3.197974e-05\n",
       "std    1.045110e-04\n",
       "min    4.587607e-07\n",
       "25%    4.587607e-07\n",
       "50%    1.239189e-06\n",
       "75%    7.472057e-06\n",
       "max    2.161944e-03"
      ]
     },
     "execution_count": 107,
     "metadata": {},
     "output_type": "execute_result"
    }
   ],
   "source": [
    "pd.DataFrame(data=w[ind:]).describe()"
   ]
  },
  {
   "cell_type": "code",
   "execution_count": 75,
   "metadata": {},
   "outputs": [],
   "source": [
    "import seaborn as sns\n",
    "diff = pd.DataFrame(data={'data':w,'target':train_labels})"
   ]
  },
  {
   "cell_type": "code",
   "execution_count": 81,
   "metadata": {},
   "outputs": [
    {
     "data": {
      "text/html": [
       "<div>\n",
       "<style scoped>\n",
       "    .dataframe tbody tr th:only-of-type {\n",
       "        vertical-align: middle;\n",
       "    }\n",
       "\n",
       "    .dataframe tbody tr th {\n",
       "        vertical-align: top;\n",
       "    }\n",
       "\n",
       "    .dataframe thead th {\n",
       "        text-align: right;\n",
       "    }\n",
       "</style>\n",
       "<table border=\"1\" class=\"dataframe\">\n",
       "  <thead>\n",
       "    <tr style=\"text-align: right;\">\n",
       "      <th></th>\n",
       "      <th>data</th>\n",
       "      <th>target</th>\n",
       "    </tr>\n",
       "  </thead>\n",
       "  <tbody>\n",
       "    <tr>\n",
       "      <th>0</th>\n",
       "      <td>0.000016</td>\n",
       "      <td>1.0</td>\n",
       "    </tr>\n",
       "    <tr>\n",
       "      <th>1</th>\n",
       "      <td>0.000023</td>\n",
       "      <td>1.0</td>\n",
       "    </tr>\n",
       "    <tr>\n",
       "      <th>2</th>\n",
       "      <td>0.000060</td>\n",
       "      <td>1.0</td>\n",
       "    </tr>\n",
       "    <tr>\n",
       "      <th>3</th>\n",
       "      <td>0.000005</td>\n",
       "      <td>1.0</td>\n",
       "    </tr>\n",
       "    <tr>\n",
       "      <th>4</th>\n",
       "      <td>0.000012</td>\n",
       "      <td>1.0</td>\n",
       "    </tr>\n",
       "  </tbody>\n",
       "</table>\n",
       "</div>"
      ],
      "text/plain": [
       "       data  target\n",
       "0  0.000016     1.0\n",
       "1  0.000023     1.0\n",
       "2  0.000060     1.0\n",
       "3  0.000005     1.0\n",
       "4  0.000012     1.0"
      ]
     },
     "execution_count": 81,
     "metadata": {},
     "output_type": "execute_result"
    }
   ],
   "source": [
    "diff.head()"
   ]
  },
  {
   "cell_type": "code",
   "execution_count": 82,
   "metadata": {},
   "outputs": [
    {
     "data": {
      "text/plain": [
       " 1.0    28000\n",
       "-1.0    15088\n",
       "Name: target, dtype: int64"
      ]
     },
     "execution_count": 82,
     "metadata": {},
     "output_type": "execute_result"
    }
   ],
   "source": [
    "diff.target.value_counts()"
   ]
  },
  {
   "cell_type": "code",
   "execution_count": 77,
   "metadata": {},
   "outputs": [
    {
     "data": {
      "text/plain": [
       "(43088, 2)"
      ]
     },
     "execution_count": 77,
     "metadata": {},
     "output_type": "execute_result"
    }
   ],
   "source": [
    "diff.shape"
   ]
  },
  {
   "cell_type": "code",
   "execution_count": 108,
   "metadata": {},
   "outputs": [
    {
     "name": "stdout",
     "output_type": "stream",
     "text": [
      "2.491966368196159e-05 3.384814347029427e-05\n"
     ]
    }
   ],
   "source": [
    "NORMAL_W = w[:ind]\n",
    "ANOMALEUS_W = w[ind:]\n",
    "print(np.percentile(NORMAL_W, 90), np.percentile(NORMAL_W, 95))"
   ]
  },
  {
   "cell_type": "code",
   "execution_count": 109,
   "metadata": {},
   "outputs": [
    {
     "name": "stdout",
     "output_type": "stream",
     "text": [
      "3.4816635344782576e-05 4.219528e-04\n"
     ]
    }
   ],
   "source": [
    "print(np.percentile(ANOMALEUS_W, 90), f'{np.percentile(ANOMALEUS_W, 95):e}')"
   ]
  },
  {
   "cell_type": "code",
   "execution_count": 88,
   "metadata": {},
   "outputs": [
    {
     "name": "stdout",
     "output_type": "stream",
     "text": [
      "1.117698606401416e-06 1.8390980877941462e-06\n"
     ]
    }
   ],
   "source": [
    "print(np.percentile(ANOMALEUS_W, 15), np.percentile(ANOMALEUS_W, 25))"
   ]
  }
 ],
 "metadata": {
  "kernelspec": {
   "display_name": "dl_env",
   "language": "python",
   "name": "dl_env"
  },
  "language_info": {
   "codemirror_mode": {
    "name": "ipython",
    "version": 3
   },
   "file_extension": ".py",
   "mimetype": "text/x-python",
   "name": "python",
   "nbconvert_exporter": "python",
   "pygments_lexer": "ipython3",
   "version": "3.7.12"
  }
 },
 "nbformat": 4,
 "nbformat_minor": 2
}
